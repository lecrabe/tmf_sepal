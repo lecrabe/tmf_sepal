{
 "cells": [
  {
   "cell_type": "code",
   "execution_count": null,
   "metadata": {},
   "outputs": [],
   "source": [
    "from component import model\n",
    "from component import tile\n",
    "from sepal_ui import aoi"
   ]
  },
  {
   "cell_type": "code",
   "execution_count": null,
   "metadata": {},
   "outputs": [],
   "source": [
    "# Uncomment if you run here for debugging purposes\n",
    "# aoi_io = aoi.Aoi_io(default_asset='users/remifao/aoi_test') # a default assetId can be directly set in the constructor"
   ]
  },
  {
   "cell_type": "code",
   "execution_count": null,
   "metadata": {},
   "outputs": [],
   "source": [
    "# define the io of your tile\n",
    "# it should be a mutable object that can be called in your tiles\n",
    "process_model = model.ProcessModel()"
   ]
  },
  {
   "cell_type": "code",
   "execution_count": null,
   "metadata": {},
   "outputs": [],
   "source": [
    "# the result tile need to be created before the process tile\n",
    "# as it's a parameter of the processTile init function\n",
    "# be aware thatt you'll decide the display order of your tiles in the ui.ipynb notebook\n",
    "visualization_tile = tile.VisualizationTile()\n",
    "export_tile = tile.ExportTile(aoi_tile.view.model, process_model)"
   ]
  },
  {
   "cell_type": "code",
   "execution_count": null,
   "metadata": {},
   "outputs": [],
   "source": [
    "# create the process tile\n",
    "process_tile = tile.ProcessTile(\n",
    "    process_model, aoi_tile.view.model, visualization_tile, export_tile\n",
    ")"
   ]
  },
  {
   "cell_type": "code",
   "execution_count": null,
   "metadata": {},
   "outputs": [],
   "source": [
    "# this tile will only be displayed if this very notebook is launched\n",
    "# useful for debugging\n",
    "process_tile"
   ]
  },
  {
   "cell_type": "code",
   "execution_count": null,
   "metadata": {},
   "outputs": [],
   "source": [
    "# Visualization tile\n",
    "visualization_tile"
   ]
  },
  {
   "cell_type": "code",
   "execution_count": null,
   "metadata": {},
   "outputs": [],
   "source": [
    "# Export tile\n",
    "export_tile"
   ]
  },
  {
   "cell_type": "code",
   "execution_count": null,
   "metadata": {},
   "outputs": [],
   "source": [
    "# to debug the io you can display it's magic __dict__ function\n",
    "# this variable will only be displayed if this very notebook is launched\n",
    "# usefull for debugging\n",
    "process_model.__dict__"
   ]
  },
  {
   "cell_type": "code",
   "execution_count": null,
   "metadata": {},
   "outputs": [],
   "source": []
  }
 ],
 "metadata": {
  "kernelspec": {
   "display_name": "Python 3",
   "language": "python",
   "name": "python3"
  },
  "language_info": {
   "codemirror_mode": {
    "name": "ipython",
    "version": 3
   },
   "file_extension": ".py",
   "mimetype": "text/x-python",
   "name": "python",
   "nbconvert_exporter": "python",
   "pygments_lexer": "ipython3",
   "version": "3.6.9"
  }
 },
 "nbformat": 4,
 "nbformat_minor": 4
}
